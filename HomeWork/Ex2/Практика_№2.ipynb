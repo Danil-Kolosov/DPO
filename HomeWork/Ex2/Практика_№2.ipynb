{
  "cells": [
    {
      "cell_type": "markdown",
      "metadata": {
        "id": "64JPlHixec69"
      },
      "source": [
        "# Практика №2\n",
        "\n",
        "1. Сгенерировать, используя модуль псевдослучайных чисел `random`, или ввести с клавиатуры список целых чисел. Вывести в консоль, затем перевернуть его и снова вывести в консоль.\n",
        "\n",
        "2. Сгенерировать, используя модуль псевдослучайных чисел `random`, или ввести с клавиатуры два списка целых чисел. Вывести их в консоль. Создать новый пустой список. Добавить в него все четные (по индексу) элементы первого списка и все нечетные (по индексу) элементы второго списка. Вывести третий список в консоль.\n",
        "\n",
        "3. Сгенерировать, используя модуль псевдослучайных чисел `random`, или ввести с клавиатуры список произвольных элементов (целые числа, числа с плавающей точкой, строки). Вывести в консоль. Убрать из него все дубликаты через приведение типов. Вывести в консоль.\n",
        "\n",
        "4. Сгенерировать, используя модуль псевдослучайных чисел `random`, или ввести с клавиатуры словарь, где ключом является строка, значением — целое число или число с плавающей точкой. Вывести в консоль. Для всех уникальных значений создать кортеж, где первым элементом будет значение, вторым — список связанных с ним ключей. Собрать эти кортежи в список, вывести его в консоль.\n",
        "\n",
        "5. Сгенерировать, используя модуль псевдослучайных чисел `random`, или ввести с клавиатуры два словаря, где ключом является строка, значением — целое число или число с плавающей точкой. Вывести в консоль. Найти пересечения множеств значений словарей. Создать новый словарь, содержащий только те пары ключ-значение, значения из которых входит в пересечение. Вывести в консоль.\n",
        "\n",
        "[Ссылка на документацию функции `random`](https://docs.python.org/3/library/random.html)\n",
        "\n",
        "[Built-in Types](https://docs.python.org/3/library/stdtypes.html?highlight=tuple#tuple)"
      ]
    },
    {
      "cell_type": "markdown",
      "metadata": {
        "id": "HAVFiCLPo28O"
      },
      "source": [
        "## Задание 1"
      ]
    },
    {
      "cell_type": "code",
      "execution_count": null,
      "metadata": {
        "colab": {
          "base_uri": "https://localhost:8080/"
        },
        "id": "YyusyI57F_6_",
        "outputId": "4b9ddcd2-d059-4023-8bf4-d65847c5b6a7"
      },
      "outputs": [
        {
          "name": "stdout",
          "output_type": "stream",
          "text": [
            "[9, 2, 2, 2, 0, 7, 6, 1]\n",
            "[1, 6, 7, 0, 2, 2, 2, 9]\n"
          ]
        }
      ],
      "source": [
        "import random\n",
        "\n",
        "def generate_list(k):\n",
        "  return [random.randrange(0, 10) for _ in range(k)]\n",
        "u = generate_list(8)\n",
        "print(u)\n",
        "\n",
        "print(list(reversed(u)))"
      ]
    },
    {
      "cell_type": "markdown",
      "metadata": {
        "id": "a1gbYjASfIqJ"
      },
      "source": [
        "## Задание 2"
      ]
    },
    {
      "cell_type": "code",
      "execution_count": 7,
      "metadata": {
        "id": "Q0qL-Z2CGAXx"
      },
      "outputs": [
        {
          "name": "stdout",
          "output_type": "stream",
          "text": [
            "[3, 5, 5, 3, 4, 4, 6, 5]\n",
            "[8, 5, 1, 2, 5, 4, 7, 8]\n",
            "[3, 5, 5, 2, 4, 4, 6, 8]\n"
          ]
        }
      ],
      "source": [
        "\n",
        "\n",
        "def generate_list(k):\n",
        "  return [random.randrange(0, 10) for _ in range(k)]\n",
        "arr1 = generate_list(8)\n",
        "arr2 = generate_list(8)\n",
        "print(arr1)\n",
        "print(arr2)\n",
        "arr3 = []\n",
        "\n",
        "arr3 = [arr1[i] if (i%2==0) else arr2[i] for i in range(8) ]\n",
        "print(arr3)\n"
      ]
    },
    {
      "cell_type": "markdown",
      "metadata": {
        "id": "ZITkT8YUfM8t"
      },
      "source": [
        "## Задание 3"
      ]
    },
    {
      "cell_type": "code",
      "execution_count": 12,
      "metadata": {
        "id": "FIKNuLjQGAsW"
      },
      "outputs": [
        {
          "name": "stdout",
          "output_type": "stream",
          "text": [
            "[2, 4, 2, 1, 0, 2, 3, 0, 2, 4, 1.5075061868066724, 0.0, 'binary', 'monkey', 'banana', 'banana']\n",
            "{0, 1, 2, 3, 4, 1.5075061868066724, 'binary', 'banana', 'monkey'}\n"
          ]
        }
      ],
      "source": [
        "\n",
        "def CreateArrayInt(n):\n",
        "  return [random.randrange(0, 5) for _ in range(n)]\n",
        "def CreateArrayFloat(n):\n",
        "  return [random.randrange(5)*random.random() for _ in range(n)]\n",
        "\n",
        "\n",
        "arr = CreateArrayInt(10) + CreateArrayFloat(2) + ['binary', 'monkey', \"banana\",\"banana\"]\n",
        "print(arr)\n",
        "print(set(arr))"
      ]
    },
    {
      "cell_type": "markdown",
      "metadata": {
        "id": "sqvNf2a6fTdY"
      },
      "source": [
        "## Задание 4"
      ]
    },
    {
      "cell_type": "code",
      "execution_count": 38,
      "metadata": {
        "id": "4qaYZ2dMGBEr"
      },
      "outputs": [
        {
          "name": "stdout",
          "output_type": "stream",
          "text": [
            "{'a': 1, 'b': 1, 'c': 3, 'd': 4.5, 'e': 3}\n",
            "[(1, 'b', 'a'), (3, 'e', 'c'), (4.5, 'd')]\n"
          ]
        }
      ],
      "source": [
        "#alf = [chr(i) for i in range(97, 123)]\n",
        "#n=10\n",
        "#student = dict(name=alf[random.randrange(0, 5)], age=random.randrange(0, 5) for _ in range(n), mark=random.randrange(5)*random.random(5) for _ in range(n))\n",
        "\n",
        "#keys = ['a', 'b', 'c','d','e']\n",
        "#values = [1, 1, 3,5.4,3]\n",
        "#dictionary = {k: v for k, v in zip(keys, values)}\n",
        "dictionary = dict()\n",
        "dictionary['a'] = 1\n",
        "dictionary['b'] = 1\n",
        "dictionary['c'] = 3\n",
        "dictionary['d'] = 4.5\n",
        "dictionary['e'] = 3\n",
        "print(dictionary)\n",
        "\n",
        "valyes = dictionary.get('a')\n",
        "#print(valyes)\n",
        "keys = dictionary.keys()\n",
        "\n",
        "setVal=set(i for i in dictionary.values())\n",
        "setVal = list(setVal)\n",
        "#print(setVal)\n",
        "dictionary2 = dict()\n",
        "for i in range(len(setVal)):\n",
        "    dictionary2[setVal[i]]=set()\n",
        "#print(dictionary2)\n",
        "\n",
        "\n",
        "for i1 in dictionary.keys():\n",
        "    for i2 in dictionary.keys():\n",
        "        if (dictionary.get(i1)==dictionary.get(i2)):\n",
        "            dictionary2[dictionary.get(i1)].add(i1)\n",
        "\n",
        "#print(dictionary2)\n",
        "\n",
        "result=list()\n",
        "for i in dictionary2.keys():\n",
        "    corteg = (i,)\n",
        "    arr=list(dictionary2[i])\n",
        "    for i in range (len(arr)):\n",
        "        corteg=corteg+(arr[i],)\n",
        "    result.append(corteg)\n",
        "print(result)\n",
        "\n",
        "\n"
      ]
    },
    {
      "cell_type": "markdown",
      "metadata": {
        "id": "3V5mJOBQfYHe"
      },
      "source": [
        "## Задание 5"
      ]
    },
    {
      "cell_type": "code",
      "execution_count": 59,
      "metadata": {
        "id": "7RJzU4DiGBXQ"
      },
      "outputs": [
        {
          "name": "stdout",
          "output_type": "stream",
          "text": [
            "{'a': 5, 'b': 13, 'c': 9, 'd': 7, 'e': 10}\n",
            "{'f': 5, 'g': 4, 'h': 13, 'j': 8, 'k': 9}\n",
            "{'a': 5, 'b': 13, 'c': 9}\n"
          ]
        }
      ],
      "source": [
        "from collections import Counter\n",
        "assoc_arr1 = dict()\n",
        "assoc_arr1['a'] = 5\n",
        "assoc_arr1['b'] = 13\n",
        "assoc_arr1['c'] = 9\n",
        "assoc_arr1['d'] = 7\n",
        "assoc_arr1['e'] = 10\n",
        "\n",
        "assoc_arr2 = dict()\n",
        "assoc_arr2['f'] = 5\n",
        "assoc_arr2['g'] = 4\n",
        "assoc_arr2['h'] = 13\n",
        "assoc_arr2['j'] = 8\n",
        "assoc_arr2['k'] = 9\n",
        "\n",
        "print(assoc_arr1)\n",
        "print(assoc_arr2)\n",
        "\n",
        "set1 = set(assoc_arr1.values())\n",
        "#print(set1)\n",
        "set2 = set(assoc_arr2.values())\n",
        "setOfCommonValues = set1.intersection(set2)\n",
        "#print(setOfCommonValues)\n",
        "setOfCommonValues=list(setOfCommonValues)\n",
        "result=dict()\n",
        "\n",
        "for i in assoc_arr1.keys():\n",
        "    for j in range(len(setOfCommonValues)):\n",
        "        if(assoc_arr1[i]==setOfCommonValues[j]):\n",
        "            result[i]=setOfCommonValues[j]\n",
        "print(result)\n",
        "\n",
        "#'''res11={**dictA,**dictB}\n",
        "#print(res11)\n",
        "#res12=Counter({**dictA,**dictB})\n",
        "#print(res12)\n",
        "#res21=(dictA | dictB)\n",
        "#print(res21)\n",
        "#res22=Counter(dictA | dictB)\n",
        "#print(res22)\n",
        "#res=res12-res22\n",
        "#print(res)\n",
        "#result = list(Counter({**dictA,**dictB})-Counter(dictA | dictB))\n",
        "#print(result)'''\n"
      ]
    }
  ],
  "metadata": {
    "colab": {
      "collapsed_sections": [
        "HAVFiCLPo28O"
      ],
      "provenance": [],
      "toc_visible": true
    },
    "kernelspec": {
      "display_name": "Python 3",
      "name": "python3"
    },
    "language_info": {
      "codemirror_mode": {
        "name": "ipython",
        "version": 3
      },
      "file_extension": ".py",
      "mimetype": "text/x-python",
      "name": "python",
      "nbconvert_exporter": "python",
      "pygments_lexer": "ipython3",
      "version": "3.10.5"
    }
  },
  "nbformat": 4,
  "nbformat_minor": 0
}
